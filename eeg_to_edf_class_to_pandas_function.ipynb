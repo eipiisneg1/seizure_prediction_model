{
 "cells": [
  {
   "cell_type": "code",
   "execution_count": 2,
   "metadata": {
    "collapsed": true,
    "pycharm": {
     "name": "#%%\n"
    }
   },
   "outputs": [],
   "source": [
    "\"\"\" a function designed to be called when an EEG dataset needs to be cleaned \"\"\"\n",
    "\n",
    "import mne\n",
    "import warnings  # Hide all warnings here\n",
    "import pandas as pd\n",
    "import numpy as np\n",
    "\n",
    "\n",
    "def load_pandas_data(filename):\n",
    "    # When exporting data as a NumPy array or Pandas DataFrame, be sure to properly account for the unit of representation in your subsequent analyses.\n",
    "    # with preload=True, contents are read into RAM\n",
    "\n",
    "    mne.set_log_level('WARNING')\n",
    "    warnings.simplefilter(\"ignore\")\n",
    "\n",
    "    patient = mne.io.read_raw(filename,preload=True)\n",
    "    return patient.to_data_frame()\n",
    "\n",
    "\n",
    "def get_seizure(seizure_set_df, start, end):\n",
    "    \"\"\" return index locations for a given seizure set \"\"\"\n",
    "\n",
    "    start = np.where(seizure_set_df['time'] == start)\n",
    "    end = np.where(seizure_set_df['time'] == end)\n",
    "    seizure_set_df.loc[start[0][0]:end[0][0],'seizure = 1'] = 1\n",
    "    return seizure_set_df\n",
    "\n",
    "\n",
    "def prepare_df_for_analysis(preseizure_set, seizure_set):\n",
    "    \"\"\" prepare the dataframe for the analysis \"\"\"\n",
    "\n",
    "    # seizure_set['time'] = seizure_set['time'] + 3600.000001\n",
    "    p1 = pd.concat([preseizure_set, seizure_set],axis=0,ignore_index=True)\n",
    "    p1.set_index('time',inplace=True)\n",
    "\n",
    "    # left hemisphere location totals\n",
    "    p1['outer_left_hemi_sum'] = p1[['FP1-F7','F7-T7','T7-P7','P7-O1']].sum(axis=1)\n",
    "    p1['inner_left_hemi_sum'] = p1[['FP1-F3','F3-C3','C3-P3','P3-O1']].sum(axis=1)\n",
    "\n",
    "    # right hemisphere location totals\n",
    "    p1['outter_right_hemi_sum'] = p1[['FP2-F8','F8-T8','T8-P8-0','P8-O2']].sum(axis=1)\n",
    "    p1['inner_right_hemi_sum'] = p1[['FP2-F4','F4-C4','C4-P4','P4-O2']].sum(axis=1)\n",
    "\n",
    "    # center totals\n",
    "    p1['center_line'] = p1[['FZ-CZ','CZ-PZ']].sum(axis=1)\n",
    "\n",
    "    # left temple to rear totals\n",
    "    p1['left_temple_to_left_rear'] = p1[['FZ-CZ','CZ-PZ']].sum(axis=1)\n",
    "\n",
    "    # temple to temple totals\n",
    "    p1['temple_to_temple'] = p1[['FT9-FT10']].sum(axis=1)\n",
    "\n",
    "    # left temple to rear totals\n",
    "    p1['right_temple_to_right_rear'] = p1[['FT10-T8','T8-P8-1']].sum(axis=1)\n",
    "\n",
    "    # reorder columns for better visual early analysis\n",
    "    new_cols = ['seizure = 1',\n",
    "                'FP2-F4','FP1-F7','F7-T7','T7-P7','P7-O1','outer_left_hemi_sum',\n",
    "                'FP1-F3','F3-C3','C3-P3','P3-O1','inner_left_hemi_sum',\n",
    "                'FP2-F8','F8-T8','T8-P8-0','P8-O2','outter_right_hemi_sum',\n",
    "                'FP2-F4','F4-C4','C4-P4','P4-O2','inner_right_hemi_sum',\n",
    "                'FZ-CZ','CZ-PZ','center_line',\n",
    "                'P7-T7','T7-FT9','left_temple_to_left_rear',\n",
    "                'FT9-FT10','temple_to_temple',\n",
    "                'FT10-T8','T8-P8-1','right_temple_to_right_rear']\n",
    "\n",
    "    p1 = p1.reindex(columns=new_cols)\n",
    "    return p1\n",
    "\n",
    "\n",
    "def is_df_clean(df):\n",
    "    \"\"\" Check if a dataframe is clean. \"\"\"\n",
    "    # is_na = df.count()\n",
    "    for i in range(df.count().all().tolist()):\n",
    "        if not i:\n",
    "            return f\"There are null values in {df.columns[i]}: Note: this is expected if column is 'seizures = 1' as most of the values are zero, but 1 where the seizure exist.\"\n",
    "    # infinite = np.isinf(df).sum()\n",
    "    for j in  np.isinf(df).sum().any().to_list():\n",
    "        if not j:\n",
    "            return f'There are infinite values in {df.columns[j]}'\n",
    "\n"
   ]
  },
  {
   "cell_type": "code",
   "execution_count": 3,
   "outputs": [],
   "source": [],
   "metadata": {
    "collapsed": false,
    "pycharm": {
     "name": "#%%\n"
    }
   }
  },
  {
   "cell_type": "code",
   "execution_count": null,
   "outputs": [],
   "source": [],
   "metadata": {
    "collapsed": false,
    "pycharm": {
     "name": "#%%\n"
    }
   }
  }
 ],
 "metadata": {
  "kernelspec": {
   "display_name": "Python 3",
   "language": "python",
   "name": "python3"
  },
  "language_info": {
   "codemirror_mode": {
    "name": "ipython",
    "version": 2
   },
   "file_extension": ".py",
   "mimetype": "text/x-python",
   "name": "python",
   "nbconvert_exporter": "python",
   "pygments_lexer": "ipython2",
   "version": "2.7.6"
  }
 },
 "nbformat": 4,
 "nbformat_minor": 0
}