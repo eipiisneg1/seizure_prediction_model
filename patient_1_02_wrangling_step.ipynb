{
 "cells": [
  {
   "cell_type": "markdown",
   "source": [
    "I'm only including this file out of the three, becuase they are all identical in code with the only differences being the edf file and the seizure times.\n",
    "I'm not sure how much of the data you would like to see and Github to get ill when I tried to upload it all.\n",
    "\n",
    "The three files are:\n",
    "File 1 is patient 1\n",
    "File 2 is patient 1 but 18 months later\n",
    "File 3 is patient 2 with a VNS installed.\n",
    "\n",
    "You can see all 3 files at the Githib: https://github.com/eipiisneg1/seizure_prediction_model.git"
   ],
   "metadata": {
    "collapsed": false,
    "pycharm": {
     "name": "#%% md\n"
    }
   }
  },
  {
   "cell_type": "code",
   "execution_count": 1,
   "metadata": {
    "collapsed": true,
    "pycharm": {
     "name": "#%%\n"
    }
   },
   "outputs": [],
   "source": [
    "import mne\n",
    "import warnings  # Hide all warnings here\n",
    "import pandas as pd\n",
    "import numpy as np\n",
    "import sklearn as sk\n",
    "import matplotlib.pyplot as plt\n",
    "import mne\n",
    "import warnings  # Hide all warnings here\n",
    "\n",
    "mne.set_log_level('WARNING')\n",
    "warnings.simplefilter(\"ignore\")\n",
    "warnings.filterwarnings(\"ignore\",category=DeprecationWarning)"
   ]
  },
  {
   "cell_type": "code",
   "execution_count": 2,
   "outputs": [],
   "source": [
    "def load_pandas_data(filename):\n",
    "    # When exporting data as a NumPy array or Pandas DataFrame, be sure to properly account for the unit of representation in your subsequent analyses.\n",
    "    # with preload=True, contents are read into RAM\n",
    "\n",
    "    mne.set_log_level('WARNING')\n",
    "    warnings.simplefilter(\"ignore\")\n",
    "\n",
    "    patient = mne.io.read_raw(filename,preload=True)\n",
    "    return patient.to_data_frame()\n",
    "\n",
    "\n",
    "def get_seizure(seizure_set_df, start, end):\n",
    "    \"\"\" return index locations for a given seizure set \"\"\"\n",
    "\n",
    "    start = np.where(seizure_set_df['time'] == start)\n",
    "    end = np.where(seizure_set_df['time'] == end)\n",
    "    seizure_set_df.loc[start[0][0]:end[0][0],'seizure = 1'] = 1\n",
    "    return seizure_set_df\n",
    "\n",
    "\n",
    "def prepare_df_for_analysis(preseizure_set, seizure_set):\n",
    "    \"\"\" prepare, concate, and rename features for analysis \"\"\"\n",
    "\n",
    "    p1 = pd.concat([preseizure_set, seizure_set],axis=0,ignore_index=True)\n",
    "    p1.set_index('time',inplace=True)\n",
    "\n",
    "    # left hemisphere location totals\n",
    "    p1['outer_left_hemi_sum'] = p1[['FP1-F7','F7-T7','T7-P7','P7-O1']].sum(axis=1)\n",
    "    p1['inner_left_hemi_sum'] = p1[['FP1-F3','F3-C3','C3-P3','P3-O1']].sum(axis=1)\n",
    "\n",
    "    # right hemisphere location totals\n",
    "    p1['outter_right_hemi_sum'] = p1[['FP2-F8','F8-T8','T8-P8-0','P8-O2']].sum(axis=1)\n",
    "    p1['inner_right_hemi_sum'] = p1[['FP2-F4','F4-C4','C4-P4','P4-O2']].sum(axis=1)\n",
    "\n",
    "    # center totals\n",
    "    p1['center_line'] = p1[['FZ-CZ','CZ-PZ']].sum(axis=1)\n",
    "\n",
    "    # left temple to rear totals\n",
    "    p1['left_temple_to_left_rear'] = p1[['FZ-CZ','CZ-PZ']].sum(axis=1)\n",
    "\n",
    "    # temple to temple totals\n",
    "    p1['temple_to_temple'] = p1[['FT9-FT10']].sum(axis=1)\n",
    "\n",
    "    # left temple to rear totals\n",
    "    p1['right_temple_to_right_rear'] = p1[['FT10-T8','T8-P8-1']].sum(axis=1)\n",
    "\n",
    "    # reorder columns for better visual early analysis\n",
    "    new_cols = ['seizure = 1',\n",
    "                'FP2-F4','FP1-F7','F7-T7','T7-P7','P7-O1','outer_left_hemi_sum',\n",
    "                'FP1-F3','F3-C3','C3-P3','P3-O1','inner_left_hemi_sum',\n",
    "                'FP2-F8','F8-T8','T8-P8-0','P8-O2','outter_right_hemi_sum',\n",
    "                'FP2-F4','F4-C4','C4-P4','P4-O2','inner_right_hemi_sum',\n",
    "                'FZ-CZ','CZ-PZ','center_line',\n",
    "                'P7-T7','T7-FT9','left_temple_to_left_rear',\n",
    "                'FT9-FT10','temple_to_temple',\n",
    "                'FT10-T8','T8-P8-1','right_temple_to_right_rear']\n",
    "\n",
    "    p1 = p1.reindex(columns=new_cols)\n",
    "    return p1\n",
    "\n",
    "\n",
    "def is_df_clean(df):\n",
    "    \"\"\" Check if a dataframe is clean. \"\"\"\n",
    "    # is_na = df.count()\n",
    "    for i in range(df.count().all().tolist()):\n",
    "        if not i:\n",
    "            return f\"There are null values in {df.columns[i]}: Note: this is expected if column is 'seizures = 1' as most of the values are zero, but 1 where the seizure exist.\"\n",
    "    # infinite = np.isinf(df).sum()\n",
    "    for j in  np.isinf(df).sum().any().to_list():\n",
    "        if not j:\n",
    "            return f'There are infinite values in {df.columns[j]}'"
   ],
   "metadata": {
    "collapsed": false,
    "pycharm": {
     "name": "#%%\n"
    }
   }
  },
  {
   "cell_type": "code",
   "execution_count": 3,
   "outputs": [
    {
     "name": "stdout",
     "output_type": "stream",
     "text": [
      "There are null values in seizure = 1: Note: this is expected if column is 'seizures = 1' as most of the values are zero, but 1 where the seizure exist.\n",
      "\n",
      "<class 'pandas.core.frame.DataFrame'>\n",
      "Float64Index: 1843200 entries, 0.0 to 3599.99609375\n",
      "Data columns (total 33 columns):\n",
      " #   Column                      Dtype  \n",
      "---  ------                      -----  \n",
      " 0   seizure = 1                 int64  \n",
      " 1   FP2-F4                      float64\n",
      " 2   FP1-F7                      float64\n",
      " 3   F7-T7                       float64\n",
      " 4   T7-P7                       float64\n",
      " 5   P7-O1                       float64\n",
      " 6   outer_left_hemi_sum         float64\n",
      " 7   FP1-F3                      float64\n",
      " 8   F3-C3                       float64\n",
      " 9   C3-P3                       float64\n",
      " 10  P3-O1                       float64\n",
      " 11  inner_left_hemi_sum         float64\n",
      " 12  FP2-F8                      float64\n",
      " 13  F8-T8                       float64\n",
      " 14  T8-P8-0                     float64\n",
      " 15  P8-O2                       float64\n",
      " 16  outter_right_hemi_sum       float64\n",
      " 17  FP2-F4                      float64\n",
      " 18  F4-C4                       float64\n",
      " 19  C4-P4                       float64\n",
      " 20  P4-O2                       float64\n",
      " 21  inner_right_hemi_sum        float64\n",
      " 22  FZ-CZ                       float64\n",
      " 23  CZ-PZ                       float64\n",
      " 24  center_line                 float64\n",
      " 25  P7-T7                       float64\n",
      " 26  T7-FT9                      float64\n",
      " 27  left_temple_to_left_rear    float64\n",
      " 28  FT9-FT10                    float64\n",
      " 29  temple_to_temple            float64\n",
      " 30  FT10-T8                     float64\n",
      " 31  T8-P8-1                     float64\n",
      " 32  right_temple_to_right_rear  float64\n",
      "dtypes: float64(32), int64(1)\n",
      "memory usage: 478.1 MB\n",
      "\n",
      "\n",
      "\n",
      "\n",
      "        seizure = 1        FP2-F4        FP1-F7         F7-T7         T7-P7  \\\n",
      "count  1.843200e+06  1.843200e+06  1.843200e+06  1.843200e+06  1.843200e+06   \n",
      "mean   5.556098e-03  2.136542e-01  2.021359e-01  1.858073e-01  2.005948e-01   \n",
      "std    7.433190e-02  4.525108e+01  4.732226e+01  3.198745e+01  3.318723e+01   \n",
      "min    0.000000e+00 -6.659829e+02 -5.804151e+02 -4.362393e+02 -4.534310e+02   \n",
      "25%    0.000000e+00 -2.051282e+01 -1.816850e+01 -1.465201e+01 -1.543346e+01   \n",
      "50%    0.000000e+00 -1.953602e-01  1.953602e-01  1.953602e-01  1.953602e-01   \n",
      "75%    0.000000e+00  1.973138e+01  1.777778e+01  1.504274e+01  1.582418e+01   \n",
      "max    1.000000e+00  6.999756e+02  7.792918e+02  5.542369e+02  3.905250e+02   \n",
      "\n",
      "              P7-O1  outer_left_hemi_sum        FP1-F3         F3-C3  \\\n",
      "count  1.843200e+06         1.843200e+06  1.843200e+06  1.843200e+06   \n",
      "mean   2.231797e-01         8.117178e-01  2.075889e-01  1.639050e-01   \n",
      "std    2.788761e+01         8.021720e+01  4.953259e+01  3.855701e+01   \n",
      "min   -3.049573e+02        -8.650549e+02 -6.190965e+02 -4.311600e+02   \n",
      "25%   -1.426129e+01        -3.633700e+01 -2.246642e+01 -1.894994e+01   \n",
      "50%    1.953602e-01         7.814408e-01  1.953602e-01  1.953602e-01   \n",
      "75%    1.465201e+01         3.750916e+01  2.168498e+01  1.934066e+01   \n",
      "max    2.213431e+02         8.584127e+02  6.745788e+02  3.494994e+02   \n",
      "\n",
      "              C3-P3  ...         CZ-PZ   center_line         P7-T7  \\\n",
      "count  1.843200e+06  ...  1.843200e+06  1.843200e+06  1.843200e+06   \n",
      "mean   2.084894e-01  ...  2.017158e-01  3.877347e-01  1.901256e-01   \n",
      "std    2.758210e+01  ...  4.054817e+01  6.152574e+01  3.318723e+01   \n",
      "min   -3.166789e+02  ... -4.917216e+02 -7.310379e+02 -3.901343e+02   \n",
      "25%   -1.387057e+01  ... -2.012210e+01 -2.852259e+01 -1.543346e+01   \n",
      "50%    1.953602e-01  ...  1.953602e-01  3.907204e-01  1.953602e-01   \n",
      "75%    1.387057e+01  ...  1.973138e+01  2.930403e+01  1.582418e+01   \n",
      "max    3.631746e+02  ...  4.694505e+02  6.947009e+02  4.538217e+02   \n",
      "\n",
      "             T7-FT9  left_temple_to_left_rear      FT9-FT10  temple_to_temple  \\\n",
      "count  1.843200e+06              1.843200e+06  1.843200e+06      1.843200e+06   \n",
      "mean   1.920158e-01              3.877347e-01  2.560001e-01      2.560001e-01   \n",
      "std    2.420484e+01              6.152574e+01  4.947491e+01      4.947491e+01   \n",
      "min   -5.046154e+02             -7.310379e+02 -5.683028e+02     -5.683028e+02   \n",
      "25%   -1.269841e+01             -2.852259e+01 -2.207570e+01     -2.207570e+01   \n",
      "50%    9.768010e-01              3.907204e-01 -9.768010e-01     -9.768010e-01   \n",
      "75%    1.347985e+01              2.930403e+01  2.207570e+01      2.207570e+01   \n",
      "max    3.295726e+02              6.947009e+02  5.835409e+02      5.835409e+02   \n",
      "\n",
      "            FT10-T8       T8-P8-1  right_temple_to_right_rear  \n",
      "count  1.843200e+06  1.843200e+06                1.843200e+06  \n",
      "mean   2.160534e-01  1.902941e-01                4.063475e-01  \n",
      "std    2.401849e+01  3.713596e+01                4.862939e+01  \n",
      "min   -2.893284e+02 -7.210745e+02               -6.192918e+02  \n",
      "25%   -1.152625e+01 -1.699634e+01               -2.305250e+01  \n",
      "50%    1.953602e-01  1.953602e-01                3.907204e-01  \n",
      "75%    1.152625e+01  1.738706e+01                2.344322e+01  \n",
      "max    5.003175e+02  4.764835e+02                5.833455e+02  \n",
      "\n",
      "[8 rows x 33 columns]\n"
     ]
    }
   ],
   "source": [
    "raw_p1_02_nonseizure = '/Users/jshensley/Desktop/springboard/DS_Method_and_Capstones/capstone_2_2/capstone_2/a_cookiecutter_for_capstone_2/{{ cookiecutter.seizure_prediction_model }}/pycharm_files/Capstone2_dataset/patient_1/intial_EEG/chb01_02_nonseizure_set_just_before_seizure_set.edf'\n",
    "\n",
    "raw_p1_02_seizure_set = '/Users/jshensley/Desktop/springboard/DS_Method_and_Capstones/capstone_2_2/capstone_2/a_cookiecutter_for_capstone_2/{{ cookiecutter.seizure_prediction_model }}/pycharm_files/Capstone2_dataset/patient_1/intial_EEG/chb01_03_aa_seizure_set.edf'\n",
    "\n",
    "p1_preseizure = load_pandas_data(raw_p1_02_nonseizure)\n",
    "p1_preseizure['seizure = 1'] = 0\n",
    "\n",
    "p1_seizure_set = load_pandas_data(raw_p1_02_seizure_set)\n",
    "p1_seizure_set['seizure = 1'] = 0\n",
    "\n",
    "\n",
    "p1_seizures = get_seizure(p1_seizure_set, 2996, 3036)\n",
    "p1_df = prepare_df_for_analysis(p1_preseizure, p1_seizure_set)\n",
    "p1_df_is_clean = is_df_clean(p1_df)\n",
    "\n",
    "print(p1_df_is_clean)\n",
    "print()\n",
    "\n",
    "p1_df.info()\n",
    "print(f'\\n\\n\\n')\n",
    "\n",
    "p1_describe = p1_df.describe()\n",
    "print(p1_describe)\n"
   ],
   "metadata": {
    "collapsed": false,
    "pycharm": {
     "name": "#%%\n"
    }
   }
  },
  {
   "cell_type": "markdown",
   "source": [
    "In the columns below, the dash is actually a minus operator. 'FP2-F4' is the difference between the two leads in microvolts. This led me to include the sum columns with the brain locations for later use in the EDA visualization stage. I'm sure these will be removed for modeling.\n",
    "\n",
    "\n",
    "![](../../../../../../../../Library/Messages/Attachments/75/05/9661CF27-B575-4CCA-949C-DC3888194CB9/IMG_4142.png)"
   ],
   "metadata": {
    "collapsed": false,
    "pycharm": {
     "name": "#%% md\n"
    }
   }
  },
  {
   "cell_type": "code",
   "execution_count": 4,
   "outputs": [
    {
     "data": {
      "text/plain": "          seizure = 1     FP2-F4     FP1-F7      F7-T7      T7-P7      P7-O1  \\\ntime                                                                           \n0.000000            0  13.870574  15.042735  15.042735  28.327228 -13.479853   \n0.003906            0   0.195360   0.195360   0.195360   0.195360   0.195360   \n0.007812            0   0.195360   0.195360   0.195360   0.195360   0.195360   \n0.011719            0  -0.195360  -0.195360   0.195360   0.195360   0.195360   \n0.015625            0   0.195360  -0.195360   0.976801   0.195360   0.195360   \n\n          outer_left_hemi_sum     FP1-F3      F3-C3      C3-P3  ...  \\\ntime                                                            ...   \n0.000000            44.932845  40.830281 -12.307692 -12.307692  ...   \n0.003906             0.781441   0.195360   0.195360   0.195360  ...   \n0.007812             0.781441   0.195360   0.195360   0.195360  ...   \n0.011719             0.390720  -0.195360   0.195360   0.195360  ...   \n0.015625             1.172161   0.195360   0.195360  -0.195360  ...   \n\n              CZ-PZ  center_line      P7-T7     T7-FT9  \\\ntime                                                     \n0.000000 -26.373626   -58.998779 -27.936508 -47.863248   \n0.003906   0.195360     0.390720   0.195360   0.195360   \n0.007812   0.195360     0.390720   0.195360   0.195360   \n0.011719   0.195360     0.390720   0.195360   0.195360   \n0.015625   0.195360     0.390720   0.195360  -1.758242   \n\n          left_temple_to_left_rear   FT9-FT10  temple_to_temple    FT10-T8  \\\ntime                                                                         \n0.000000                -58.998779 -25.592186        -25.592186  54.896215   \n0.003906                  0.390720   0.195360          0.195360   0.195360   \n0.007812                  0.390720   0.195360          0.195360   0.195360   \n0.011719                  0.390720   0.195360          0.195360   0.195360   \n0.015625                  0.390720   0.586081          0.586081   0.586081   \n\n            T8-P8-1  right_temple_to_right_rear  \ntime                                             \n0.000000 -27.155067                   27.741148  \n0.003906   0.195360                    0.390720  \n0.007812   0.195360                    0.390720  \n0.011719   0.195360                    0.390720  \n0.015625   0.586081                    1.172161  \n\n[5 rows x 33 columns]",
      "text/html": "<div>\n<style scoped>\n    .dataframe tbody tr th:only-of-type {\n        vertical-align: middle;\n    }\n\n    .dataframe tbody tr th {\n        vertical-align: top;\n    }\n\n    .dataframe thead th {\n        text-align: right;\n    }\n</style>\n<table border=\"1\" class=\"dataframe\">\n  <thead>\n    <tr style=\"text-align: right;\">\n      <th></th>\n      <th>seizure = 1</th>\n      <th>FP2-F4</th>\n      <th>FP1-F7</th>\n      <th>F7-T7</th>\n      <th>T7-P7</th>\n      <th>P7-O1</th>\n      <th>outer_left_hemi_sum</th>\n      <th>FP1-F3</th>\n      <th>F3-C3</th>\n      <th>C3-P3</th>\n      <th>...</th>\n      <th>CZ-PZ</th>\n      <th>center_line</th>\n      <th>P7-T7</th>\n      <th>T7-FT9</th>\n      <th>left_temple_to_left_rear</th>\n      <th>FT9-FT10</th>\n      <th>temple_to_temple</th>\n      <th>FT10-T8</th>\n      <th>T8-P8-1</th>\n      <th>right_temple_to_right_rear</th>\n    </tr>\n    <tr>\n      <th>time</th>\n      <th></th>\n      <th></th>\n      <th></th>\n      <th></th>\n      <th></th>\n      <th></th>\n      <th></th>\n      <th></th>\n      <th></th>\n      <th></th>\n      <th></th>\n      <th></th>\n      <th></th>\n      <th></th>\n      <th></th>\n      <th></th>\n      <th></th>\n      <th></th>\n      <th></th>\n      <th></th>\n      <th></th>\n    </tr>\n  </thead>\n  <tbody>\n    <tr>\n      <th>0.000000</th>\n      <td>0</td>\n      <td>13.870574</td>\n      <td>15.042735</td>\n      <td>15.042735</td>\n      <td>28.327228</td>\n      <td>-13.479853</td>\n      <td>44.932845</td>\n      <td>40.830281</td>\n      <td>-12.307692</td>\n      <td>-12.307692</td>\n      <td>...</td>\n      <td>-26.373626</td>\n      <td>-58.998779</td>\n      <td>-27.936508</td>\n      <td>-47.863248</td>\n      <td>-58.998779</td>\n      <td>-25.592186</td>\n      <td>-25.592186</td>\n      <td>54.896215</td>\n      <td>-27.155067</td>\n      <td>27.741148</td>\n    </tr>\n    <tr>\n      <th>0.003906</th>\n      <td>0</td>\n      <td>0.195360</td>\n      <td>0.195360</td>\n      <td>0.195360</td>\n      <td>0.195360</td>\n      <td>0.195360</td>\n      <td>0.781441</td>\n      <td>0.195360</td>\n      <td>0.195360</td>\n      <td>0.195360</td>\n      <td>...</td>\n      <td>0.195360</td>\n      <td>0.390720</td>\n      <td>0.195360</td>\n      <td>0.195360</td>\n      <td>0.390720</td>\n      <td>0.195360</td>\n      <td>0.195360</td>\n      <td>0.195360</td>\n      <td>0.195360</td>\n      <td>0.390720</td>\n    </tr>\n    <tr>\n      <th>0.007812</th>\n      <td>0</td>\n      <td>0.195360</td>\n      <td>0.195360</td>\n      <td>0.195360</td>\n      <td>0.195360</td>\n      <td>0.195360</td>\n      <td>0.781441</td>\n      <td>0.195360</td>\n      <td>0.195360</td>\n      <td>0.195360</td>\n      <td>...</td>\n      <td>0.195360</td>\n      <td>0.390720</td>\n      <td>0.195360</td>\n      <td>0.195360</td>\n      <td>0.390720</td>\n      <td>0.195360</td>\n      <td>0.195360</td>\n      <td>0.195360</td>\n      <td>0.195360</td>\n      <td>0.390720</td>\n    </tr>\n    <tr>\n      <th>0.011719</th>\n      <td>0</td>\n      <td>-0.195360</td>\n      <td>-0.195360</td>\n      <td>0.195360</td>\n      <td>0.195360</td>\n      <td>0.195360</td>\n      <td>0.390720</td>\n      <td>-0.195360</td>\n      <td>0.195360</td>\n      <td>0.195360</td>\n      <td>...</td>\n      <td>0.195360</td>\n      <td>0.390720</td>\n      <td>0.195360</td>\n      <td>0.195360</td>\n      <td>0.390720</td>\n      <td>0.195360</td>\n      <td>0.195360</td>\n      <td>0.195360</td>\n      <td>0.195360</td>\n      <td>0.390720</td>\n    </tr>\n    <tr>\n      <th>0.015625</th>\n      <td>0</td>\n      <td>0.195360</td>\n      <td>-0.195360</td>\n      <td>0.976801</td>\n      <td>0.195360</td>\n      <td>0.195360</td>\n      <td>1.172161</td>\n      <td>0.195360</td>\n      <td>0.195360</td>\n      <td>-0.195360</td>\n      <td>...</td>\n      <td>0.195360</td>\n      <td>0.390720</td>\n      <td>0.195360</td>\n      <td>-1.758242</td>\n      <td>0.390720</td>\n      <td>0.586081</td>\n      <td>0.586081</td>\n      <td>0.586081</td>\n      <td>0.586081</td>\n      <td>1.172161</td>\n    </tr>\n  </tbody>\n</table>\n<p>5 rows × 33 columns</p>\n</div>"
     },
     "execution_count": 4,
     "metadata": {},
     "output_type": "execute_result"
    }
   ],
   "source": [
    "p1_df.head()"
   ],
   "metadata": {
    "collapsed": false,
    "pycharm": {
     "name": "#%%\n"
    }
   }
  },
  {
   "cell_type": "markdown",
   "source": [
    "Additionally, I added the 'seizure = 1' column after you mentioned it. It also made it clear where the seizure was located at the outset for your review."
   ],
   "metadata": {
    "collapsed": false,
    "pycharm": {
     "name": "#%% md\n"
    }
   }
  },
  {
   "cell_type": "code",
   "execution_count": 5,
   "outputs": [
    {
     "data": {
      "text/plain": "             seizure = 1     FP2-F4     FP1-F7      F7-T7      T7-P7  \\\ntime                                                                   \n2996.000000            1  10.354090  57.240537  45.909646  55.677656   \n2996.003906            1  25.592186  53.333333  50.989011  56.459096   \n2996.007812            1  38.876679  45.909646  59.194139  54.896215   \n2996.011719            1  45.518926  42.393162  64.273504  52.161172   \n2996.015625            1  50.989011  46.300366  58.021978  46.691087   \n...                  ...        ...        ...        ...        ...   \n3035.984375            1 -36.923077  -0.976801 -28.717949  31.843712   \n3035.988281            1 -23.247863  15.824176 -29.499389  24.420024   \n3035.992188            1 -30.671551  24.029304 -24.810745  12.307692   \n3035.996094            1 -22.857143  13.870574 -16.996337  14.261294   \n3036.000000            1 -26.764347   4.493284 -12.307692  10.744811   \n\n                 P7-O1  outer_left_hemi_sum     FP1-F3      F3-C3      C3-P3  \\\ntime                                                                           \n2996.000000   3.321123           162.148962 -21.684982  42.393162  84.590965   \n2996.003906   2.539683           163.321123 -19.731380  45.518926  88.888889   \n2996.007812  -0.976801           159.023199 -23.247863  50.207570  88.888889   \n2996.011719  -4.102564           154.725275 -22.075702  54.505495  83.028083   \n2996.015625  -2.539683           148.473748 -16.214896  53.333333  80.293040   \n...                ...                  ...        ...        ...        ...   \n3035.984375  14.652015            16.800977 -35.750916 -81.465201  85.763126   \n3035.988281   6.446886            17.191697 -29.108669 -56.849817  74.432234   \n3035.992188   3.321123            14.847375 -35.750916 -42.002442  71.306471   \n3035.996094   4.884005            16.019536 -28.327228 -18.559219  52.942613   \n3036.000000  16.996337            19.926740 -32.234432 -19.731380  53.333333   \n\n             ...       CZ-PZ  center_line      P7-T7     T7-FT9  \\\ntime         ...                                                  \n2996.000000  ...  113.894994   156.678877 -55.286935  18.949939   \n2996.003906  ...  114.676435   150.427350 -56.068376  15.824176   \n2996.007812  ...  113.504274   139.096459 -54.505495   3.711844   \n2996.011719  ...  113.894994   134.017094 -51.770452  -6.446886   \n2996.015625  ...  115.457875   137.142857 -46.300366   2.930403   \n...          ...         ...          ...        ...        ...   \n3035.984375  ...   55.286935    40.244200 -31.452991 -13.089133   \n3035.988281  ...   52.551893    35.946276 -24.029304  13.479853   \n3035.992188  ...   47.863248    32.820513 -11.916972  18.168498   \n3035.996094  ...   42.783883    35.555556 -13.870574  24.029304   \n3036.000000  ...   39.267399    36.336996 -10.354090  18.949939   \n\n             left_temple_to_left_rear   FT9-FT10  temple_to_temple  \\\ntime                                                                 \n2996.000000                156.678877  24.810745         24.810745   \n2996.003906                150.427350  36.923077         36.923077   \n2996.007812                139.096459  54.896215         54.896215   \n2996.011719                134.017094  68.962149         68.962149   \n2996.015625                137.142857  73.650794         73.650794   \n...                               ...        ...               ...   \n3035.984375                 40.244200  92.405372         92.405372   \n3035.988281                 35.946276  18.949939         18.949939   \n3035.992188                 32.820513  24.420024         24.420024   \n3035.996094                 35.555556  13.870574         13.870574   \n3036.000000                 36.336996  12.698413         12.698413   \n\n                FT10-T8     T8-P8-1  right_temple_to_right_rear  \ntime                                                             \n2996.000000    6.446886   32.625153                   39.072039  \n2996.003906    9.181929   21.294261                   30.476190  \n2996.007812   12.698413   10.744811                   23.443223  \n2996.011719   15.824176    3.711844                   19.536020  \n2996.015625   12.698413   -5.665446                    7.032967  \n...                 ...         ...                         ...  \n3035.984375   23.247863  -16.996337                    6.251526  \n3035.988281   47.081807  -18.168498                   28.913309  \n3035.992188   -9.181929   -3.321123                  -12.503053  \n3035.996094   28.717949  -42.393162                  -13.675214  \n3036.000000  120.146520 -126.788767                   -6.642247  \n\n[10241 rows x 33 columns]",
      "text/html": "<div>\n<style scoped>\n    .dataframe tbody tr th:only-of-type {\n        vertical-align: middle;\n    }\n\n    .dataframe tbody tr th {\n        vertical-align: top;\n    }\n\n    .dataframe thead th {\n        text-align: right;\n    }\n</style>\n<table border=\"1\" class=\"dataframe\">\n  <thead>\n    <tr style=\"text-align: right;\">\n      <th></th>\n      <th>seizure = 1</th>\n      <th>FP2-F4</th>\n      <th>FP1-F7</th>\n      <th>F7-T7</th>\n      <th>T7-P7</th>\n      <th>P7-O1</th>\n      <th>outer_left_hemi_sum</th>\n      <th>FP1-F3</th>\n      <th>F3-C3</th>\n      <th>C3-P3</th>\n      <th>...</th>\n      <th>CZ-PZ</th>\n      <th>center_line</th>\n      <th>P7-T7</th>\n      <th>T7-FT9</th>\n      <th>left_temple_to_left_rear</th>\n      <th>FT9-FT10</th>\n      <th>temple_to_temple</th>\n      <th>FT10-T8</th>\n      <th>T8-P8-1</th>\n      <th>right_temple_to_right_rear</th>\n    </tr>\n    <tr>\n      <th>time</th>\n      <th></th>\n      <th></th>\n      <th></th>\n      <th></th>\n      <th></th>\n      <th></th>\n      <th></th>\n      <th></th>\n      <th></th>\n      <th></th>\n      <th></th>\n      <th></th>\n      <th></th>\n      <th></th>\n      <th></th>\n      <th></th>\n      <th></th>\n      <th></th>\n      <th></th>\n      <th></th>\n      <th></th>\n    </tr>\n  </thead>\n  <tbody>\n    <tr>\n      <th>2996.000000</th>\n      <td>1</td>\n      <td>10.354090</td>\n      <td>57.240537</td>\n      <td>45.909646</td>\n      <td>55.677656</td>\n      <td>3.321123</td>\n      <td>162.148962</td>\n      <td>-21.684982</td>\n      <td>42.393162</td>\n      <td>84.590965</td>\n      <td>...</td>\n      <td>113.894994</td>\n      <td>156.678877</td>\n      <td>-55.286935</td>\n      <td>18.949939</td>\n      <td>156.678877</td>\n      <td>24.810745</td>\n      <td>24.810745</td>\n      <td>6.446886</td>\n      <td>32.625153</td>\n      <td>39.072039</td>\n    </tr>\n    <tr>\n      <th>2996.003906</th>\n      <td>1</td>\n      <td>25.592186</td>\n      <td>53.333333</td>\n      <td>50.989011</td>\n      <td>56.459096</td>\n      <td>2.539683</td>\n      <td>163.321123</td>\n      <td>-19.731380</td>\n      <td>45.518926</td>\n      <td>88.888889</td>\n      <td>...</td>\n      <td>114.676435</td>\n      <td>150.427350</td>\n      <td>-56.068376</td>\n      <td>15.824176</td>\n      <td>150.427350</td>\n      <td>36.923077</td>\n      <td>36.923077</td>\n      <td>9.181929</td>\n      <td>21.294261</td>\n      <td>30.476190</td>\n    </tr>\n    <tr>\n      <th>2996.007812</th>\n      <td>1</td>\n      <td>38.876679</td>\n      <td>45.909646</td>\n      <td>59.194139</td>\n      <td>54.896215</td>\n      <td>-0.976801</td>\n      <td>159.023199</td>\n      <td>-23.247863</td>\n      <td>50.207570</td>\n      <td>88.888889</td>\n      <td>...</td>\n      <td>113.504274</td>\n      <td>139.096459</td>\n      <td>-54.505495</td>\n      <td>3.711844</td>\n      <td>139.096459</td>\n      <td>54.896215</td>\n      <td>54.896215</td>\n      <td>12.698413</td>\n      <td>10.744811</td>\n      <td>23.443223</td>\n    </tr>\n    <tr>\n      <th>2996.011719</th>\n      <td>1</td>\n      <td>45.518926</td>\n      <td>42.393162</td>\n      <td>64.273504</td>\n      <td>52.161172</td>\n      <td>-4.102564</td>\n      <td>154.725275</td>\n      <td>-22.075702</td>\n      <td>54.505495</td>\n      <td>83.028083</td>\n      <td>...</td>\n      <td>113.894994</td>\n      <td>134.017094</td>\n      <td>-51.770452</td>\n      <td>-6.446886</td>\n      <td>134.017094</td>\n      <td>68.962149</td>\n      <td>68.962149</td>\n      <td>15.824176</td>\n      <td>3.711844</td>\n      <td>19.536020</td>\n    </tr>\n    <tr>\n      <th>2996.015625</th>\n      <td>1</td>\n      <td>50.989011</td>\n      <td>46.300366</td>\n      <td>58.021978</td>\n      <td>46.691087</td>\n      <td>-2.539683</td>\n      <td>148.473748</td>\n      <td>-16.214896</td>\n      <td>53.333333</td>\n      <td>80.293040</td>\n      <td>...</td>\n      <td>115.457875</td>\n      <td>137.142857</td>\n      <td>-46.300366</td>\n      <td>2.930403</td>\n      <td>137.142857</td>\n      <td>73.650794</td>\n      <td>73.650794</td>\n      <td>12.698413</td>\n      <td>-5.665446</td>\n      <td>7.032967</td>\n    </tr>\n    <tr>\n      <th>...</th>\n      <td>...</td>\n      <td>...</td>\n      <td>...</td>\n      <td>...</td>\n      <td>...</td>\n      <td>...</td>\n      <td>...</td>\n      <td>...</td>\n      <td>...</td>\n      <td>...</td>\n      <td>...</td>\n      <td>...</td>\n      <td>...</td>\n      <td>...</td>\n      <td>...</td>\n      <td>...</td>\n      <td>...</td>\n      <td>...</td>\n      <td>...</td>\n      <td>...</td>\n      <td>...</td>\n    </tr>\n    <tr>\n      <th>3035.984375</th>\n      <td>1</td>\n      <td>-36.923077</td>\n      <td>-0.976801</td>\n      <td>-28.717949</td>\n      <td>31.843712</td>\n      <td>14.652015</td>\n      <td>16.800977</td>\n      <td>-35.750916</td>\n      <td>-81.465201</td>\n      <td>85.763126</td>\n      <td>...</td>\n      <td>55.286935</td>\n      <td>40.244200</td>\n      <td>-31.452991</td>\n      <td>-13.089133</td>\n      <td>40.244200</td>\n      <td>92.405372</td>\n      <td>92.405372</td>\n      <td>23.247863</td>\n      <td>-16.996337</td>\n      <td>6.251526</td>\n    </tr>\n    <tr>\n      <th>3035.988281</th>\n      <td>1</td>\n      <td>-23.247863</td>\n      <td>15.824176</td>\n      <td>-29.499389</td>\n      <td>24.420024</td>\n      <td>6.446886</td>\n      <td>17.191697</td>\n      <td>-29.108669</td>\n      <td>-56.849817</td>\n      <td>74.432234</td>\n      <td>...</td>\n      <td>52.551893</td>\n      <td>35.946276</td>\n      <td>-24.029304</td>\n      <td>13.479853</td>\n      <td>35.946276</td>\n      <td>18.949939</td>\n      <td>18.949939</td>\n      <td>47.081807</td>\n      <td>-18.168498</td>\n      <td>28.913309</td>\n    </tr>\n    <tr>\n      <th>3035.992188</th>\n      <td>1</td>\n      <td>-30.671551</td>\n      <td>24.029304</td>\n      <td>-24.810745</td>\n      <td>12.307692</td>\n      <td>3.321123</td>\n      <td>14.847375</td>\n      <td>-35.750916</td>\n      <td>-42.002442</td>\n      <td>71.306471</td>\n      <td>...</td>\n      <td>47.863248</td>\n      <td>32.820513</td>\n      <td>-11.916972</td>\n      <td>18.168498</td>\n      <td>32.820513</td>\n      <td>24.420024</td>\n      <td>24.420024</td>\n      <td>-9.181929</td>\n      <td>-3.321123</td>\n      <td>-12.503053</td>\n    </tr>\n    <tr>\n      <th>3035.996094</th>\n      <td>1</td>\n      <td>-22.857143</td>\n      <td>13.870574</td>\n      <td>-16.996337</td>\n      <td>14.261294</td>\n      <td>4.884005</td>\n      <td>16.019536</td>\n      <td>-28.327228</td>\n      <td>-18.559219</td>\n      <td>52.942613</td>\n      <td>...</td>\n      <td>42.783883</td>\n      <td>35.555556</td>\n      <td>-13.870574</td>\n      <td>24.029304</td>\n      <td>35.555556</td>\n      <td>13.870574</td>\n      <td>13.870574</td>\n      <td>28.717949</td>\n      <td>-42.393162</td>\n      <td>-13.675214</td>\n    </tr>\n    <tr>\n      <th>3036.000000</th>\n      <td>1</td>\n      <td>-26.764347</td>\n      <td>4.493284</td>\n      <td>-12.307692</td>\n      <td>10.744811</td>\n      <td>16.996337</td>\n      <td>19.926740</td>\n      <td>-32.234432</td>\n      <td>-19.731380</td>\n      <td>53.333333</td>\n      <td>...</td>\n      <td>39.267399</td>\n      <td>36.336996</td>\n      <td>-10.354090</td>\n      <td>18.949939</td>\n      <td>36.336996</td>\n      <td>12.698413</td>\n      <td>12.698413</td>\n      <td>120.146520</td>\n      <td>-126.788767</td>\n      <td>-6.642247</td>\n    </tr>\n  </tbody>\n</table>\n<p>10241 rows × 33 columns</p>\n</div>"
     },
     "execution_count": 5,
     "metadata": {},
     "output_type": "execute_result"
    }
   ],
   "source": [
    "# The seizure\n",
    "p1_df[p1_df['seizure = 1'] == 1]"
   ],
   "metadata": {
    "collapsed": false,
    "pycharm": {
     "name": "#%%\n"
    }
   }
  },
  {
   "cell_type": "code",
   "execution_count": 17,
   "outputs": [],
   "source": [],
   "metadata": {
    "collapsed": false,
    "pycharm": {
     "name": "#%%\n"
    }
   }
  }
 ],
 "metadata": {
  "kernelspec": {
   "display_name": "Python 3",
   "language": "python",
   "name": "python3"
  },
  "language_info": {
   "codemirror_mode": {
    "name": "ipython",
    "version": 2
   },
   "file_extension": ".py",
   "mimetype": "text/x-python",
   "name": "python",
   "nbconvert_exporter": "python",
   "pygments_lexer": "ipython2",
   "version": "2.7.6"
  }
 },
 "nbformat": 4,
 "nbformat_minor": 0
}